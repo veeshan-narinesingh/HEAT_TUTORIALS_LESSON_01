{
 "cells": [
  {
   "cell_type": "code",
   "execution_count": 2,
   "id": "13803d72-c2ce-4b55-85fe-dc289652c704",
   "metadata": {},
   "outputs": [],
   "source": [
    "#first you need to import the packages we will use\n",
    "import xarray as xr\n",
    "import numpy as np\n",
    "import matplotlib.pyplot as plt\n",
    "import cartopy.crs as ccrs\n",
    "import pandas as pd\n",
    "\n",
    "import fiona as fi\n",
    "import shapely as shp\n",
    "import pyproj as pyproj\n",
    "\n",
    "\n",
    "#define the file you will investigate\n",
    "tfile1='DATA/ERA5_2deg_temperature.model_level_137.daily.2019.nc'\n",
    "\n",
    "#load in the dataset using xarray\n",
    "tds=xr.open_dataset(tfile1)\n"
   ]
  },
  {
   "cell_type": "code",
   "execution_count": null,
   "id": "444fce14-8bc5-41fe-af97-80d514a1f4f3",
   "metadata": {},
   "outputs": [],
   "source": [
    "#Take a look at the dataset properties\n",
    "tds\n",
    "#notice it has 3 dimensions, time x lat x lon"
   ]
  },
  {
   "cell_type": "code",
   "execution_count": null,
   "id": "b5c9d349-e131-4c40-8537-43f09b91b893",
   "metadata": {},
   "outputs": [],
   "source": [
    "#load the data into memory\n",
    "lon=tds.lon.values #pull out the lon\n",
    "lat=tds.lat.values #pull out the lat\n",
    "t=1.8*(tds.t.values-273.15)+32 #pull out the t variable (temperature), convert to fahrenheit\n",
    "\n",
    "# Generate a date range for the entire year 2019\n",
    "timedr = pd.date_range(start='2019-01-01', end='2019-12-31', freq='D')\n",
    "# Convert to a list of datetime objects\n",
    "timedt = timedr.to_pydatetime().tolist()"
   ]
  },
  {
   "cell_type": "code",
   "execution_count": null,
   "id": "31c0b4d2-1d72-427a-b2c3-cce5d970fe8f",
   "metadata": {
    "tags": []
   },
   "outputs": [],
   "source": [
    "#python indices start at 0, and each index corresponds to a certain value along that dimension\n",
    "#for example, index 0 in the 1st dimension corresponds to January 1st 2918, and index 364 is Dec. 31st\n",
    "tnow=t[0,:,:] #0 means the 1st index in the 1st dimension, : means all indices in the 2nd (lat) and 3rd (lon) dimensions\n",
    "\n",
    "\n",
    "\n",
    "# Set the color axis limits\n",
    "color_min = -100\n",
    "color_max = 100\n",
    "numberofsteps=11\n",
    "colorlevels=np.linspace(color_min, color_max, numberofsteps)\n",
    "\n",
    "\n",
    "# Initialize the figure with the specified projection\n",
    "fig = plt.figure(figsize=(36, 6))\n",
    "# Add a subplot to the figure, in this case it's a 1 x 1 subplot and we focus on the 1st entry (1,1,1,..\n",
    "# We also have to specify a map projection, projection=ccrs.PlateCarree(central_longitude=0)\n",
    "axs = fig.add_subplot(1, 1, 1, projection=ccrs.PlateCarree(central_longitude=0))\n",
    "\n",
    "# Plot a filled contour of tnow with specified color axis limits\n",
    "contour_plot1 = axs.contourf(lon, lat, tnow, levels=colorlevels, vmin=color_min, vmax=color_max)\n",
    "\n",
    "# Add coastlines to the plot\n",
    "axs.coastlines(resolution='110m')\n",
    "axs.gridlines(draw_labels=True, dms=True, x_inline=False, y_inline=False)\n",
    "\n",
    "# Add a colorbar with a label containing the degree symbol and adjust font size\n",
    "cbar = fig.colorbar(contour_plot1)\n",
    "cbar.set_label('Temperature (°F)', fontsize=16)\n",
    "\n",
    "# Add a title to the plot\n",
    "plt.title('Near Surface Temperature January 1st, 2019')\n",
    "\n",
    "# Show the plot\n",
    "plt.show()"
   ]
  },
  {
   "cell_type": "code",
   "execution_count": null,
   "id": "b9b9e54e-661e-47e7-8416-47fa15b0e7f8",
   "metadata": {},
   "outputs": [],
   "source": [
    "#Answer the following questions to check for understanding, you can type it right into the notebook\n",
    "\n",
    "#1. What colors do you see near the equator? What about near the poles? Does this make sense according to the colorbar?\n",
    "\n",
    "#2. Where is it coldest?\n",
    "\n",
    "#3. Which is warmer, the Northern Hemisphere or the Southern Hemisphere?\n",
    "\n"
   ]
  },
  {
   "cell_type": "code",
   "execution_count": null,
   "id": "91994c91-3eee-4d6e-8ab0-3a6365f48ec0",
   "metadata": {},
   "outputs": [],
   "source": [
    "#What's next is some tasks to practice your coding skills. It's probably best to copy and paste some of the code above \n",
    "#and modify where needed. Feel free to explore and change the map projections and extent if you'd like \n",
    "\n",
    "#1. Plot the temperature for January 3rd, 2019"
   ]
  },
  {
   "cell_type": "code",
   "execution_count": null,
   "id": "c5aa2dbb-4539-43a9-a48f-ef93fbadde72",
   "metadata": {},
   "outputs": [],
   "source": [
    "#2. Plot the temperature for June 1st, 2019"
   ]
  },
  {
   "cell_type": "code",
   "execution_count": null,
   "id": "a49bc5bc-a165-497f-9cd3-70ac0ef3297d",
   "metadata": {},
   "outputs": [],
   "source": [
    "#3. Plot the temperature for August 31st, 2019"
   ]
  },
  {
   "cell_type": "code",
   "execution_count": null,
   "id": "eea87f94-c2dc-4476-8bf3-3e4828c8f630",
   "metadata": {},
   "outputs": [],
   "source": [
    "#4. Plot the temperature for your birthday or someone you love, 2019"
   ]
  },
  {
   "cell_type": "code",
   "execution_count": null,
   "id": "55365250-3e0c-443f-8d2a-64adb6b7c3bc",
   "metadata": {},
   "outputs": [],
   "source": [
    "# here's an easier way to find out where the August 25th index is\n",
    "taug25idx=np.where((timedr.month==8 ) & (timedr.day==25))[0][0]\n",
    "\n",
    "taug25=t[taug25idx,:,:]\n",
    "\n",
    "# Set the color axis limits\n",
    "color_min = -100\n",
    "color_max = 100\n",
    "numberofsteps=11\n",
    "colorlevels=np.linspace(color_min, color_max, numberofsteps)\n",
    "\n",
    "\n",
    "# Initialize the figure with the specified projection\n",
    "fig = plt.figure(figsize=(36, 6))\n",
    "# Add a subplot to the figure, in this case it's a 1 x 1 subplot and we focus on the 1st entry (1,1,1,..\n",
    "# We also have to specify a map projection, projection=ccrs.PlateCarree(central_longitude=0)\n",
    "axs = fig.add_subplot(1, 1, 1, projection=ccrs.PlateCarree(central_longitude=0))\n",
    "\n",
    "# Plot a filled contour of tnow with specified color axis limits\n",
    "contour_plot1 = axs.contourf(lon, lat, taug25, levels=colorlevels, vmin=color_min, vmax=color_max)\n",
    "\n",
    "# Add coastlines to the plot\n",
    "axs.coastlines(resolution='110m')\n",
    "axs.gridlines(draw_labels=True, dms=True, x_inline=False, y_inline=False)\n",
    "\n",
    "# Add a colorbar with a label containing the degree symbol and adjust font size\n",
    "cbar = fig.colorbar(contour_plot1)\n",
    "cbar.set_label('Temperature (°F)', fontsize=16)\n",
    "\n",
    "# Add a title to the plot\n",
    "plt.title('Near Surface Temperature August 25, 2019')\n",
    "\n",
    "# Show the plot\n",
    "plt.show()\n"
   ]
  },
  {
   "cell_type": "code",
   "execution_count": null,
   "id": "5790b2d9-fa1e-4a4b-bd7d-4efd16ee2e92",
   "metadata": {},
   "outputs": [],
   "source": [
    "# Critical thinking: Look at your plots for January and your plots of August. How do the Northern and \n",
    "# Southern Hemisphere's compare in both of these months?"
   ]
  },
  {
   "cell_type": "code",
   "execution_count": null,
   "id": "c1f6a9b9-c5c9-43bd-815d-583009f8a720",
   "metadata": {},
   "outputs": [],
   "source": [
    "# now let's plot the average temperature for the entire year\n",
    "\n",
    "tmean=t.mean(axis=0)\n",
    "\n",
    "# Set the color axis limits\n",
    "color_min = -100\n",
    "color_max = 100\n",
    "numberofsteps=11\n",
    "colorlevels=np.linspace(color_min, color_max, numberofsteps)\n",
    "\n",
    "# Initialize the figure with the specified projection\n",
    "fig = plt.figure(figsize=(36, 6))\n",
    "# Add a subplot to the figure, in this case it's a 1 x 1 subplot and we focus on the 1st entry (1,1,1,..\n",
    "# We also have to specify a map projection, projection=ccrs.PlateCarree(central_longitude=0)\n",
    "axs = fig.add_subplot(1, 1, 1, projection=ccrs.PlateCarree(central_longitude=0))\n",
    "\n",
    "# Plot a filled contour of tnow with specified color axis limits\n",
    "contour_plot1 = axs.contourf(lon, lat, tmean, levels=colorlevels, vmin=color_min, vmax=color_max)\n",
    "\n",
    "# Add coastlines to the plot\n",
    "axs.coastlines(resolution='110m')\n",
    "axs.gridlines(draw_labels=True, dms=True, x_inline=False, y_inline=False)\n",
    "\n",
    "# Add a colorbar with a label containing the degree symbol and adjust font size\n",
    "cbar = fig.colorbar(contour_plot1)\n",
    "cbar.set_label('Temperature (°F)', fontsize=16)\n",
    "\n",
    "# Add a title to the plot\n",
    "plt.title('Mean Near Surface Temperature, 2019')\n",
    "\n",
    "# Show the plot\n",
    "plt.show()"
   ]
  },
  {
   "cell_type": "code",
   "execution_count": null,
   "id": "677bb953-3cf3-466e-8e73-be14e0718836",
   "metadata": {},
   "outputs": [],
   "source": [
    "# we can also use this where function to find all of the summer days, and see what the average summer temperature was like for this year\n",
    "# summer is usually defined as June, July, August a.k.a. JJA \n",
    "jjaidx=np.where((timedr.month==6) | (timedr.month==7) | (timedr.month==8))[0] # note '|' means 'or'\n",
    "\n",
    "\n",
    "# Set the color axis limits\n",
    "color_min = -100\n",
    "color_max = 100\n",
    "numberofsteps=11\n",
    "colorlevels=np.linspace(color_min, color_max, numberofsteps)\n",
    "\n",
    "\n",
    "# the average over an entire set of years or seasons is called a climatology, usually you want to calculate a climatology using multiple years of data\n",
    "# but for learning purposes we will calculate the summer climatology just using the 2019 data\n",
    "\n",
    "# now let's take the average over summer \n",
    "tmeanjja=t[jjaidx,:,:].mean(axis=0)\n",
    "\n",
    "\n",
    "# Initialize the figure with the specified projection\n",
    "fig = plt.figure(figsize=(36, 6))\n",
    "# Add a subplot to the figure, in this case it's a 1 x 1 subplot and we focus on the 1st entry (1,1,1,..\n",
    "# We also have to specify a map projection, projection=ccrs.PlateCarree(central_longitude=0)\n",
    "axs = fig.add_subplot(1, 1, 1, projection=ccrs.PlateCarree(central_longitude=0))\n",
    "\n",
    "# Plot a filled contour of tnow with specified color axis limits\n",
    "contour_plot1 = axs.contourf(lon, lat, tmeanjja, levels=colorlevels, vmin=color_min, vmax=color_max)\n",
    "\n",
    "# Add coastlines to the plot\n",
    "axs.coastlines(resolution='110m')\n",
    "axs.gridlines(draw_labels=True, dms=True, x_inline=False, y_inline=False)\n",
    "\n",
    "# Add a colorbar with a label containing the degree symbol and adjust font size\n",
    "cbar = fig.colorbar(contour_plot1)\n",
    "cbar.set_label('Temperature (°F)', fontsize=16)\n",
    "\n",
    "# Add a title to the plot\n",
    "plt.title('Mean Near Surface Temperature JJA 2019')\n",
    "\n",
    "# Show the plot\n",
    "plt.show()"
   ]
  },
  {
   "cell_type": "code",
   "execution_count": null,
   "id": "e7acd615-21b0-4b01-82b2-cbbb598d3f1a",
   "metadata": {},
   "outputs": [],
   "source": [
    "# plot the average temperature for the other seasons, DJF, MAM, and SON\n",
    "\n"
   ]
  },
  {
   "cell_type": "code",
   "execution_count": null,
   "id": "5a95c1a0-8b7b-4c3e-a5f3-65bad78b8319",
   "metadata": {},
   "outputs": [],
   "source": [
    "# how do the seasons compare depending on what part of the globe you are at? Do your plots make sense? How do you know?"
   ]
  },
  {
   "cell_type": "code",
   "execution_count": null,
   "id": "1c5e298c-8996-4621-a709-2d9b60be8c05",
   "metadata": {},
   "outputs": [],
   "source": [
    "# The next thing we want to calculate is the anomaly. The anomaly is the deviation from the average, or in other words the difference from the climatology\n",
    "\n",
    "#let's calculate the temperature anomaly on August 25th, using the \"climatology\" (or average) calculated for JJA\n",
    "tanomaug25=taug25-tmeanjja\n",
    "\n",
    "# Set the color axis limits\n",
    "color_min = -20\n",
    "color_max = -color_min\n",
    "numberofsteps=11\n",
    "colorlevels=np.linspace(color_min, color_max, numberofsteps)\n",
    "\n",
    "\n",
    "\n",
    "# Initialize the figure with the specified projection\n",
    "fig = plt.figure(figsize=(36, 6))\n",
    "# Add a subplot to the figure, in this case it's a 1 x 1 subplot and we focus on the 1st entry (1,1,1,..\n",
    "# We also have to specify a map projection, projection=ccrs.PlateCarree(central_longitude=0)\n",
    "axs = fig.add_subplot(1, 1, 1, projection=ccrs.PlateCarree(central_longitude=0))\n",
    "\n",
    "# Plot a filled contour of tnow with specified color axis limits\n",
    "contour_plot1 = axs.contourf(lon, lat, tanomaug25, levels=colorlevels, vmin=color_min, vmax=color_max,cmap='bwr', extend=\"both\")\n",
    "\n",
    "# Add coastlines to the plot\n",
    "axs.coastlines(resolution='110m')\n",
    "axs.gridlines(draw_labels=True, dms=True, x_inline=False, y_inline=False)\n",
    "\n",
    "# Add a colorbar with a label containing the degree symbol and adjust font size\n",
    "cbar = fig.colorbar(contour_plot1)\n",
    "cbar.set_label('Temperature (°F)', fontsize=16)\n",
    "\n",
    "# Add a title to the plot\n",
    "plt.title('Near Surface Temperature Anomaly Aug 25, 2019')\n",
    "\n",
    "# Show the plot\n",
    "plt.show()"
   ]
  },
  {
   "cell_type": "code",
   "execution_count": null,
   "id": "99aa4411-760b-4d01-bbe0-45cb1fdd08c7",
   "metadata": {},
   "outputs": [],
   "source": [
    "# the anomaly tells you where it is hotter or colder than usual \n",
    "\n",
    "# where is it hotter and colder than usual?\n",
    "\n",
    "#where is it the most abnormally hot? where is it the most abnormally cold?"
   ]
  },
  {
   "cell_type": "code",
   "execution_count": null,
   "id": "0fa810dc-8e14-49aa-b92f-f01162143c09",
   "metadata": {},
   "outputs": [],
   "source": [
    "# calculate the temperature anomaly for your birthday"
   ]
  },
  {
   "cell_type": "code",
   "execution_count": null,
   "id": "e44aa657-1f3d-4ec3-8f88-27775504bd4e",
   "metadata": {},
   "outputs": [],
   "source": [
    "# calculate the temperature anomaly for the birthday of someone you love"
   ]
  },
  {
   "cell_type": "code",
   "execution_count": null,
   "id": "f24f073b-0c97-40b8-b744-feff4a7bb197",
   "metadata": {},
   "outputs": [],
   "source": [
    "# calculate the temperature anomaly for the birthday of someone you admire"
   ]
  }
 ],
 "metadata": {
  "kernelspec": {
   "display_name": "Python 3",
   "language": "python",
   "name": "python3"
  },
  "language_info": {
   "codemirror_mode": {
    "name": "ipython",
    "version": 3
   },
   "file_extension": ".py",
   "mimetype": "text/x-python",
   "name": "python",
   "nbconvert_exporter": "python",
   "pygments_lexer": "ipython3",
   "version": "3.9.15"
  }
 },
 "nbformat": 4,
 "nbformat_minor": 5
}
